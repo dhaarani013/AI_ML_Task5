{
  "nbformat": 4,
  "nbformat_minor": 0,
  "metadata": {
    "colab": {
      "provenance": []
    },
    "kernelspec": {
      "name": "python3",
      "display_name": "Python 3"
    },
    "language_info": {
      "name": "python"
    }
  },
  "cells": [
    {
      "cell_type": "code",
      "execution_count": 1,
      "metadata": {
        "colab": {
          "base_uri": "https://localhost:8080/"
        },
        "id": "Hsir4w-PW179",
        "outputId": "53238058-d777-453e-fdce-eab405bfa456"
      },
      "outputs": [
        {
          "output_type": "stream",
          "name": "stdout",
          "text": [
            "Reading package lists... Done\n",
            "Building dependency tree... Done\n",
            "Reading state information... Done\n",
            "graphviz is already the newest version (2.42.2-6ubuntu0.1).\n",
            "0 upgraded, 0 newly installed, 0 to remove and 35 not upgraded.\n",
            "Requirement already satisfied: graphviz in /usr/local/lib/python3.11/dist-packages (0.20.3)\n"
          ]
        }
      ],
      "source": [
        "!apt-get install -y graphviz\n",
        "!pip install graphviz"
      ]
    },
    {
      "cell_type": "code",
      "source": [
        "import pandas as pd\n",
        "from sklearn.model_selection import train_test_split, cross_val_score\n",
        "from sklearn.tree import DecisionTreeClassifier, export_graphviz\n",
        "from sklearn.ensemble import RandomForestClassifier\n",
        "from sklearn.metrics import accuracy_score\n",
        "from sklearn.preprocessing import LabelEncoder\n",
        "import graphviz\n",
        "\n",
        "df = pd.read_csv(\"heart.csv\")\n",
        "\n",
        "for column in df.columns:\n",
        "    if df[column].dtype == 'object':\n",
        "        df[column] = LabelEncoder().fit_transform(df[column])\n",
        "\n",
        "X = df.drop('target', axis=1)\n",
        "y = df['target']\n",
        "\n",
        "X_train, X_test, y_train, y_test = train_test_split(X, y, test_size=0.2, random_state=42)\n",
        "\n",
        "dt = DecisionTreeClassifier(random_state=42)\n",
        "dt.fit(X_train, y_train)\n",
        "\n",
        "dot_data = export_graphviz(dt, out_file=None, feature_names=X.columns, class_names=['0','1'], filled=True)\n",
        "graph = graphviz.Source(dot_data)\n",
        "graph.render(\"decision_tree\")\n",
        "\n",
        "y_pred_dt = dt.predict(X_test)\n",
        "accuracy_dt = accuracy_score(y_test, y_pred_dt)\n",
        "\n",
        "dt_pruned = DecisionTreeClassifier(max_depth=4, random_state=42)\n",
        "dt_pruned.fit(X_train, y_train)\n",
        "y_pred_pruned = dt_pruned.predict(X_test)\n",
        "accuracy_pruned = accuracy_score(y_test, y_pred_pruned)\n",
        "\n",
        "rf = RandomForestClassifier(random_state=42)\n",
        "rf.fit(X_train, y_train)\n",
        "y_pred_rf = rf.predict(X_test)\n",
        "accuracy_rf = accuracy_score(y_test, y_pred_rf)\n",
        "\n",
        "importances = pd.Series(rf.feature_importances_, index=X.columns).sort_values(ascending=False)\n",
        "\n",
        "cv_scores = cross_val_score(rf, X, y, cv=5)\n"
      ],
      "metadata": {
        "id": "nTkCP3FXXI8i"
      },
      "execution_count": 2,
      "outputs": []
    },
    {
      "cell_type": "code",
      "source": [
        "print(\"Decision Tree Accuracy:\", accuracy_dt)\n",
        "print(\"Pruned Decision Tree Accuracy:\", accuracy_pruned)\n",
        "print(\"Random Forest Accuracy:\", accuracy_rf)\n",
        "\n",
        "print(\"\\nFeature Importances (Random Forest):\")\n",
        "print(importances)\n",
        "\n",
        "print(\"\\nCross-Validation Scores (Random Forest):\", cv_scores)\n",
        "print(\"Mean CV Score:\", cv_scores.mean())\n"
      ],
      "metadata": {
        "colab": {
          "base_uri": "https://localhost:8080/"
        },
        "id": "LIGUVR1xXhIg",
        "outputId": "46631d29-1d8f-43bd-e76b-6bb7168e37a0"
      },
      "execution_count": 3,
      "outputs": [
        {
          "output_type": "stream",
          "name": "stdout",
          "text": [
            "Decision Tree Accuracy: 0.9853658536585366\n",
            "Pruned Decision Tree Accuracy: 0.8\n",
            "Random Forest Accuracy: 0.9853658536585366\n",
            "\n",
            "Feature Importances (Random Forest):\n",
            "cp          0.135072\n",
            "ca          0.127327\n",
            "thalach     0.122169\n",
            "oldpeak     0.121905\n",
            "thal        0.110518\n",
            "age         0.077908\n",
            "chol        0.074822\n",
            "trestbps    0.071171\n",
            "exang       0.057594\n",
            "slope       0.045782\n",
            "sex         0.028731\n",
            "restecg     0.018557\n",
            "fbs         0.008444\n",
            "dtype: float64\n",
            "\n",
            "Cross-Validation Scores (Random Forest): [1.         1.         1.         1.         0.98536585]\n",
            "Mean CV Score: 0.9970731707317073\n"
          ]
        }
      ]
    }
  ]
}